{
 "cells": [
  {
   "cell_type": "markdown",
   "id": "96dc0044-53d3-4e59-900f-980936c449b1",
   "metadata": {},
   "source": [
    " #Lab1\n",
    " Tod Syversen\n",
    " \n",
    " shaochenren\n",
    " sr6631"
   ]
  },
  {
   "cell_type": "code",
   "execution_count": 1,
   "id": "71e7c2aa-3849-46d7-86ba-94298dd65717",
   "metadata": {},
   "outputs": [
    {
     "name": "stdout",
     "output_type": "stream",
     "text": [
      "Group:<1> Lab1 Course:ISSEM_6803\n"
     ]
    }
   ],
   "source": [
    "Group = \"<1>\"\n",
    "Course = \"ISSEM_6803\"\n",
    "Lab = \"Lab1\"\n",
    "print(\"Group:\"+Group, Lab, \"Course:\"+Course)"
   ]
  },
  {
   "cell_type": "code",
   "execution_count": 2,
   "id": "afe0cf97-5f7c-4e35-9444-a9b1cce966b6",
   "metadata": {},
   "outputs": [],
   "source": [
    "# Initialize a string.\n",
    "str = \"The quick brown fox jumps over the lazy dog\"\n",
    "\n",
    "# Split the string by spaces, resulting in a list of words.\n",
    "arr = str.split(\" \")\n",
    "\n",
    "# Initialize an empty list called 'temp'.\n",
    "temp = []\n",
    "\n",
    "# Append the first two words of 'arr' to the 'temp' list.\n",
    "temp.append(arr[0])  # temp = [\"The\"]\n",
    "temp.append(arr[1])  # temp = [\"The\", \"quick\"]\n",
    "\n",
    "# Replace the first two words of 'arr' with the last two words of 'arr'.\n",
    "arr[0] = arr[len(arr)-2]  # arr[0] is now \"the\"\n",
    "arr[1] = arr[len(arr)-1]  # arr[1] is now \"dog\"\n",
    "\n",
    "# Replace the last two words of 'arr' with the words stored in 'temp' (i.e., the original first two words).\n",
    "arr[len(arr)-2] = temp[0]  # arr[len(arr)-2] is now \"The\"\n",
    "arr[len(arr)-1] = temp[1]  # arr[len(arr)-1] is now \"quick\"\n",
    "\n",
    "# Join the modified 'arr' list into a string, separated by spaces.\n",
    "str = ' '.join(arr)\n"
   ]
  },
  {
   "cell_type": "code",
   "execution_count": 2,
   "id": "1c4ff73f-b433-46b1-b6ff-667c10cc5c76",
   "metadata": {},
   "outputs": [
    {
     "name": "stdout",
     "output_type": "stream",
     "text": [
      "321\n"
     ]
    }
   ],
   "source": [
    "def dummy(var):\n",
    "    x = str(var)      # Convert the input number to a string.\n",
    "    y = len(x) - 1    # Get the index of the last character in the string.\n",
    "    z = ''            # Initialize an empty string.\n",
    "    while y >= 0:     # Start from the last character and iterate to the first character.\n",
    "        z = z + x[y]  # Concatenate the characters in reverse order.\n",
    "        y -= 1        # Move to the previous character.\n",
    "    return int(z)     # Convert the reversed string back to an integer and return it.\n",
    "print(dummy(123))  # This will output 54321\n"
   ]
  },
  {
   "cell_type": "code",
   "execution_count": null,
   "id": "c8dd3341-586c-4ef8-878d-86b07a1546db",
   "metadata": {},
   "outputs": [],
   "source": [
    "def is_palindrome(n):\n",
    "    reversed_n = dummy(n)  \n",
    "    return n == reversed_n\n",
    "numbers = [121, 123, 414, 866, 988, 101]\n",
    "for num in numbers:\n",
    "    if is_palindrome(num):\n",
    "        print(f\"{num} True.\")\n",
    "    else:\n",
    "        print(f\"{num} False.\")\n"
   ]
  },
  {
   "cell_type": "code",
   "execution_count": 3,
   "id": "66ebd201-ec54-4797-bd0c-5138fa8ebf66",
   "metadata": {},
   "outputs": [
    {
     "name": "stdout",
     "output_type": "stream",
     "text": [
      "Original price: $440. After discount: 352.0\n",
      "Original price: $265. After discount: 238.5\n",
      "Original price: $144. After discount: 136.79999999999998\n",
      "Original price: $-10. After discount: Price cannot be negative. Please enter a positive value.\n",
      "Original price: $8. After discount: 4.0\n"
     ]
    }
   ],
   "source": [
    "def Calculate_Discount(price):\n",
    "    if price >= 500:\n",
    "        final_price = price * (70/100)\n",
    "    elif price >= 350 and price < 500:\n",
    "        final_price = price * (80/100)\n",
    "    elif price >= 150 and price < 350:\n",
    "        final_price = price * (90/100)\n",
    "    elif price >= 10 and price < 150:\n",
    "        final_price = price * (95/100)\n",
    "    elif price > 0 and price < 10:\n",
    "        final_price = price * (50/100)\n",
    "    else:\n",
    "        final_price = \"Price cannot be negative. Please enter a positive value.\"\n",
    "    return final_price\n",
    "prices = [440, 265, 144, -10, 8]\n",
    "for price in prices:\n",
    "    discounted_price = Calculate_Discount(price)\n",
    "    print(f\"Original price: ${price}. After discount: {discounted_price}\")\n"
   ]
  },
  {
   "cell_type": "code",
   "execution_count": null,
   "id": "7f680725-9143-4fb5-ac12-58d0582ce946",
   "metadata": {},
   "outputs": [],
   "source": []
  }
 ],
 "metadata": {
  "kernelspec": {
   "display_name": "Python 3 (ipykernel)",
   "language": "python",
   "name": "python3"
  },
  "language_info": {
   "codemirror_mode": {
    "name": "ipython",
    "version": 3
   },
   "file_extension": ".py",
   "mimetype": "text/x-python",
   "name": "python",
   "nbconvert_exporter": "python",
   "pygments_lexer": "ipython3",
   "version": "3.9.13"
  }
 },
 "nbformat": 4,
 "nbformat_minor": 5
}
