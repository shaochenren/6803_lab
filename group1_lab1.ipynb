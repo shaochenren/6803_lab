{
 "cells": [
  {
   "cell_type": "markdown",
   "id": "96dc0044-53d3-4e59-900f-980936c449b1",
   "metadata": {},
   "source": [
    " #Lab1\n",
    " Tod Syversen\n",
    " \n",
    " shaochenren\n",
    " sr6631"
   ]
  },
  {
   "cell_type": "code",
   "execution_count": 12,
   "id": "71e7c2aa-3849-46d7-86ba-94298dd65717",
   "metadata": {},
   "outputs": [
    {
     "name": "stdout",
     "output_type": "stream",
     "text": [
      "Group:<1> Lab1 Course:ISSEM_6803\n"
     ]
    }
   ],
   "source": [
    "#6\n",
    "Group = \"<1>\"\n",
    "Course = \"ISSEM_6803\"\n",
    "Lab = \"Lab1\"\n",
    "print(\"Group:\"+Group, Lab, \"Course:\"+Course)"
   ]
  },
  {
   "cell_type": "code",
   "execution_count": 13,
   "id": "afe0cf97-5f7c-4e35-9444-a9b1cce966b6",
   "metadata": {},
   "outputs": [],
   "source": [
    "#7\n",
    "# Initialize a string.\n",
    "str = \"The quick brown fox jumps over the lazy dog\"\n",
    "\n",
    "# Split the string by spaces, resulting in a list of words.\n",
    "arr = str.split(\" \")\n",
    "\n",
    "# Initialize an empty list called 'temp'.\n",
    "temp = []\n",
    "\n",
    "# Append the first two words of 'arr' to the 'temp' list.\n",
    "temp.append(arr[0])  # temp = [\"The\"]\n",
    "temp.append(arr[1])  # temp = [\"The\", \"quick\"]\n",
    "\n",
    "# Replace the first two words of 'arr' with the last two words of 'arr'.\n",
    "arr[0] = arr[len(arr)-2]  # arr[0] is now \"the\"\n",
    "arr[1] = arr[len(arr)-1]  # arr[1] is now \"dog\"\n",
    "\n",
    "# Replace the last two words of 'arr' with the words stored in 'temp' (i.e., the original first two words).\n",
    "arr[len(arr)-2] = temp[0]  # arr[len(arr)-2] is now \"The\"\n",
    "arr[len(arr)-1] = temp[1]  # arr[len(arr)-1] is now \"quick\"\n",
    "\n",
    "# Join the modified 'arr' list into a string, separated by spaces.\n",
    "str = ' '.join(arr)\n",
    "\n",
    "del str\n"
   ]
  },
  {
   "cell_type": "code",
   "execution_count": 14,
   "id": "1c4ff73f-b433-46b1-b6ff-667c10cc5c76",
   "metadata": {},
   "outputs": [
    {
     "name": "stdout",
     "output_type": "stream",
     "text": [
      "321\n"
     ]
    }
   ],
   "source": [
    "#8\n",
    "def dummy(var):\n",
    "    x = str(var)      # Convert the input number to a string.\n",
    "    y = len(x) - 1    # Get the index of the last character in the string.\n",
    "    z = ''            # Initialize an empty string.\n",
    "    while y >= 0:     # Start from the last character and iterate to the first character.\n",
    "        z = z + x[y]  # Concatenate the characters in reverse order.\n",
    "        y -= 1        # Move to the previous character.\n",
    "    return int(z)     # Convert the reversed string back to an integer and return it.\n",
    "print(dummy(123))  # This will output 321\n"
   ]
  },
  {
   "cell_type": "code",
   "execution_count": 15,
   "id": "c8dd3341-586c-4ef8-878d-86b07a1546db",
   "metadata": {},
   "outputs": [
    {
     "name": "stdout",
     "output_type": "stream",
     "text": [
      "121 True.\n",
      "123 False.\n",
      "414 True.\n",
      "866 False.\n",
      "988 False.\n",
      "101 True.\n"
     ]
    }
   ],
   "source": [
    "#9\n",
    "def is_palindrome(n):\n",
    "    reversed_n = dummy(n)  \n",
    "    return n == reversed_n\n",
    "numbers = [121, 123, 414, 866, 988, 101]\n",
    "for num in numbers:\n",
    "    if is_palindrome(num):\n",
    "        print(f\"{num} True.\")\n",
    "    else:\n",
    "        print(f\"{num} False.\")\n"
   ]
  },
  {
   "cell_type": "code",
   "execution_count": 16,
   "id": "66ebd201-ec54-4797-bd0c-5138fa8ebf66",
   "metadata": {},
   "outputs": [
    {
     "name": "stdout",
     "output_type": "stream",
     "text": [
      "Original price: $440. After discount: 352.0\n",
      "Original price: $265. After discount: 238.5\n",
      "Original price: $144. After discount: 136.79999999999998\n",
      "Original price: $-10. After discount: Price cannot be negative. Please enter a positive value.\n",
      "Original price: $8. After discount: 4.0\n"
     ]
    }
   ],
   "source": [
    "#10\n",
    "def Calculate_Discount(price):\n",
    "    if price >= 500:\n",
    "        final_price = price * (70/100)\n",
    "    elif price >= 350 and price < 500:\n",
    "        final_price = price * (80/100)\n",
    "    elif price >= 150 and price < 350:\n",
    "        final_price = price * (90/100)\n",
    "    elif price >= 10 and price < 150:\n",
    "        final_price = price * (95/100)\n",
    "    elif price > 0 and price < 10:\n",
    "        final_price = price * (50/100)\n",
    "    else:\n",
    "        final_price = \"Price cannot be negative. Please enter a positive value.\"\n",
    "    return final_price\n",
    "prices = [440, 265, 144, -10, 8]\n",
    "for price in prices:\n",
    "    discounted_price = Calculate_Discount(price)\n",
    "    print(f\"Original price: ${price}. After discount: {discounted_price}\")\n"
   ]
  },
  {
   "cell_type": "markdown",
   "id": "42d1fe60",
   "metadata": {},
   "source": [
    "### 11\n",
    "### Cryptography\n",
    "Cryptography is the science and art of designing secure communication systems. It enables the transmission of information in a way that outsiders cannot understand. This field encompasses techniques such as encryption, decryption, and digital signatures.\n",
    "\n",
    "### Encryption\n",
    "Encryption is the process of converting plaintext or any other type of understandable data into a coded version (ciphertext) that can only be decoded and understood by someone who has the encryption key.\n",
    "\n",
    "### Plain Text\n",
    "Plain Text refers to the original, readable information or data that needs to be encrypted. It's the input for the encryption process and the output for the decryption process.\n",
    "\n",
    "### Cipher Text\n",
    "Cipher Text is the encoded or transformed version of the plaintext after the encryption process. It appears as a random sequence of characters and is not understandable without the decryption key.\n",
    "\n",
    "### Decryption\n",
    "Decryption is the reverse process of encryption. It converts ciphertext back to its original form (plaintext) using a specific decryption key.\n",
    "\n",
    "### Double Strength Encryption\n",
    "Double Strength Encryption typically refers to the use of two encryption algorithms or the same algorithm with two independent keys, one after the other, to enhance security. If one encryption method is compromised, the data is still protected by the second layer.\n",
    "\n",
    "### Hybrid Encryption\n",
    "Hybrid Encryption combines the strengths of both symmetric (e.g., AES) and asymmetric (e.g., RSA) encryption. Typically, the data is encrypted using a symmetric key, while the symmetric key itself is encrypted using an asymmetric key pair. This combination provides the efficiency of symmetric encryption with the security benefits of asymmetric encryption.\n"
   ]
  }
 ],
 "metadata": {
  "kernelspec": {
   "display_name": "Python 3.11.4 64-bit",
   "language": "python",
   "name": "python3"
  },
  "language_info": {
   "codemirror_mode": {
    "name": "ipython",
    "version": 3
   },
   "file_extension": ".py",
   "mimetype": "text/x-python",
   "name": "python",
   "nbconvert_exporter": "python",
   "pygments_lexer": "ipython3",
   "version": "3.11.5"
  },
  "vscode": {
   "interpreter": {
    "hash": "b0fa6594d8f4cbf19f97940f81e996739fb7646882a419484c72d19e05852a7e"
   }
  }
 },
 "nbformat": 4,
 "nbformat_minor": 5
}
